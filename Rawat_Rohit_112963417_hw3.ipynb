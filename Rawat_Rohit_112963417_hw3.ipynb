{
  "nbformat": 4,
  "nbformat_minor": 0,
  "metadata": {
    "anaconda-cloud": {},
    "colab": {
      "name": "Rawat_Rohit_112963417_hw3.ipynb",
      "provenance": [],
      "collapsed_sections": []
    },
    "kernelspec": {
      "display_name": "Python 3",
      "language": "python",
      "name": "python3"
    },
    "language_info": {
      "codemirror_mode": {
        "name": "ipython",
        "version": 3
      },
      "file_extension": ".py",
      "mimetype": "text/x-python",
      "name": "python",
      "nbconvert_exporter": "python",
      "pygments_lexer": "ipython3",
      "version": "3.6.9"
    },
    "name": "HW3.ipynb"
  },
  "cells": [
    {
      "cell_type": "markdown",
      "metadata": {
        "colab_type": "text",
        "ein.tags": "worksheet-0",
        "id": "hVwJj1nUL4lx"
      },
      "source": [
        "# CSE527 Homework 3\n",
        "**Due date: 23:59 on Oct 22, 2019 (Thuesday)**\n",
        "\n",
        "In this semester, we will use Google Colab for the assignments, which allows us to utilize resources that some of us might not have in their local machines such as GPUs. You will need to use your Stony Brook (*.stonybrook.edu) account for coding and Google Drive to save your results.\n",
        "\n",
        "## Google Colab Tutorial\n",
        "---\n",
        "Go to https://colab.research.google.com/notebooks/, you will see a tutorial named \"Welcome to Colaboratory\" file, where you can learn the basics of using google colab.\n",
        "\n",
        "Settings used for assignments: ***Edit -> Notebook Settings -> Runtime Type (Python 3)***.\n",
        "\n",
        "\n",
        "## Using SIFT in OpenCV 3.x.x in Colab\n",
        "---\n",
        "The default version of OpenCV in Colab is 3.4.3. If we use SIFT method directly, typically we will get this error message:\n",
        "\n",
        "```\n",
        "error: OpenCV(3.4.3) /io/opencv_contrib/modules/xfeatures2d/src/sift.cpp:1207: error: (-213:The function/feature is not implemented) This algorithm is patented and is excluded in this configuration; Set OPENCV_ENABLE_NONFREE CMake option and rebuild the library in function 'create'\n",
        "\n",
        "```\n",
        "\n",
        "One simple way to use the OpenCV in-built function `SIFT` in Colab is to switch the version to the one from 'contrib'. Below is an example of switching OpenCV version:\n",
        "\n",
        "1. Run the following command in one section in Colab, which has already been included in this assignment:\n",
        "```\n",
        "pip install opencv-contrib-python==3.4.2.16\n",
        "```\n",
        "2. Restart runtime by\n",
        "```\n",
        "Runtime -> Restart Runtime\n",
        "```\n",
        "\n",
        "Then you should be able to use use `cv2.xfeatures2d.SIFT_create()` to create a SIFT object, whose functions are listed at http://docs.opencv.org/3.0-beta/modules/xfeatures2d/doc/nonfree_features.html\n",
        "\n",
        "## Some Resources\n",
        "---\n",
        "In addition to the tutorial document, the following resources can definitely help you in this homework:\n",
        "- http://opencv-python-tutroals.readthedocs.io/en/latest/py_tutorials/py_feature2d/py_matcher/py_matcher.html\n",
        "- http://docs.opencv.org/3.1.0/da/df5/tutorial_py_sift_intro.html\n",
        "- http://docs.opencv.org/3.0-beta/modules/xfeatures2d/doc/nonfree_features.html?highlight=sift#cv2.SIFT\n",
        "- http://docs.opencv.org/3.0-beta/doc/py_tutorials/py_imgproc/py_geometric_transformations/py_geometric_transformations.html\n",
        "\n",
        "\n",
        "## Description\n",
        "---\n",
        "In this homework, we will examine the task of scene recognition starting with\n",
        "very simple methods: tiny images and nearest neighbor classification, and then\n",
        "move on to more advanced methods: bags of quantized local features and linear\n",
        "classifiers learned by support vector machines.\n",
        "\n",
        "Bag of words models are a popular technique for image classification inspired by\n",
        "models used in natural language processing. The model ignores or downplays word\n",
        "arrangement (spatial information in the image) and classifies based on a\n",
        "histogram of the frequency of visual words. The visual word \"vocabulary\" is\n",
        "established by clustering a large corpus of local features. See Szeliski chapter\n",
        "14.4.1 for more details on category recognition with quantized features. In\n",
        "addition, 14.3.2 discusses vocabulary creation and 14.1 covers classification\n",
        "techniques.\n",
        "\n",
        "For this homework you will be implementing a basic bag of words model. You will\n",
        "classify scenes into one of 16 categories by training and testing on the 16\n",
        "scene database (introduced in [Lazebnik et al.\n",
        "2006](http://www.di.ens.fr/willow/pdfs/cvpr06b.pdf), although built on top of\n",
        "previously published datasets).\n",
        "[Lazebnik et al. 2006](http://www.di.ens.fr/willow/pdfs/cvpr06b.pdf) is a great\n",
        "paper to read, although we will be implementing the baseline method the paper\n",
        "discusses (equivalent to the zero level pyramid) and not the more sophisticated\n",
        "spatial pyramid. For an excellent survey of\n",
        "pre-deep-learning feature encoding methods for bag of words models, see\n",
        "[Chatfield et al, 2011](http://www.robots.ox.ac.uk/~vgg/research/encoding_eval/).\n",
        "\n",
        "You are required to implement 2 different image representations: tiny images and bags of SIFT features, and 2 different classification techniques: nearest neighbor and linear SVM. There are 3 problems plus a performance report in this homework with a total of 100 points. 1 bonus question with extra 10 points is provided under problem 3. The maximum points you may earn from this homework is 100 + 10 = 110 points. Be sure to read **Submission Guidelines** below. They are important.\n",
        "\n",
        "## Dataset\n",
        "---\n",
        "\n",
        "The starter code trains on 150 and tests on 50 images from each category (i.e. 2400\n",
        "training examples total and 800 test cases total). In a real research paper,\n",
        "one would be expected to test performance on random splits of the data into\n",
        "training and test sets, but the starter code does not do this to ease debugging.\n",
        "\n",
        "Save the [dataset(click me)](https://drive.google.com/drive/folders/1NWC3TMsXSWN2TeoYMCjhf2N1b-WRDh-M?usp=sharing) into your working folder in your Google Drive for this homework. <br>\n",
        "Under your root folder, there should be a folder named \"data\" (i.e. XXX/Surname_Givenname_SBUID/data) containing the images.\n",
        "**Do not upload** the data subfolder before submitting on blackboard due to size limit. There should be only one .ipynb file under your root folder Surname_Givenname_SBUID.\n",
        "\n",
        "\n",
        "## Starter Code\n",
        "---\n",
        "To make your task a little easier, below we provide some starter code which\n",
        "randomly guesses the category of every test image and achieves about 6.25% accuracy\n",
        "(1 out of 16 guesses is correct)."
      ]
    },
    {
      "cell_type": "code",
      "metadata": {
        "id": "Y0Pmi8P7zxwr",
        "colab_type": "code",
        "colab": {}
      },
      "source": [
        "####################Doubts################3\n",
        "#No. of test samples are 25 not 50 thus, total no. of test cases are 400.\n",
        "#Do we need to add test and train in test set and then random split them?\n",
        "#There are many design decisions and free parameters for the bag of SIFT representation (number of clusters, sampling density, sampling scales, SIFT parameters, etc.)"
      ],
      "execution_count": 0,
      "outputs": []
    },
    {
      "cell_type": "code",
      "metadata": {
        "colab_type": "code",
        "id": "k4dhRR_119C4",
        "outputId": "eedf72f0-7dc8-4f96-9448-f0f24adf51fa",
        "colab": {
          "base_uri": "https://localhost:8080/",
          "height": 50
        }
      },
      "source": [
        "pip install opencv-contrib-python==3.4.2.16"
      ],
      "execution_count": 22,
      "outputs": [
        {
          "output_type": "stream",
          "text": [
            "Requirement already satisfied: opencv-contrib-python==3.4.2.16 in /usr/local/lib/python3.6/dist-packages (3.4.2.16)\n",
            "Requirement already satisfied: numpy>=1.11.3 in /usr/local/lib/python3.6/dist-packages (from opencv-contrib-python==3.4.2.16) (1.16.5)\n"
          ],
          "name": "stdout"
        }
      ]
    },
    {
      "cell_type": "code",
      "metadata": {
        "colab_type": "code",
        "id": "TxrQ1z4sObHr",
        "outputId": "69b130bc-9bb3-4a5a-a430-2d451f0bcdfc",
        "colab": {
          "base_uri": "https://localhost:8080/",
          "height": 34
        }
      },
      "source": [
        "# import packages here\n",
        "import cv2\n",
        "import numpy as np\n",
        "import pandas as pd\n",
        "import matplotlib.pyplot as plt\n",
        "import glob\n",
        "import itertools\n",
        "import time\n",
        "import zipfile\n",
        "import torch\n",
        "import torchvision\n",
        "import gc\n",
        "import pickle\n",
        "from sklearn import svm\n",
        "from skimage import color\n",
        "from skimage import io\n",
        "from torch.utils.data import Dataset, DataLoader\n",
        "from sklearn.neighbors import KNeighborsClassifier\n",
        "from sklearn.cluster import KMeans\n",
        "from sklearn.cluster import MiniBatchKMeans\n",
        "from sklearn.neighbors import NearestNeighbors\n",
        "from sklearn.metrics import accuracy_score\n",
        "import time\n",
        "import warnings\n",
        "\n",
        "print(cv2.__version__) # verify OpenCV version"
      ],
      "execution_count": 23,
      "outputs": [
        {
          "output_type": "stream",
          "text": [
            "3.4.2\n"
          ],
          "name": "stdout"
        }
      ]
    },
    {
      "cell_type": "code",
      "metadata": {
        "colab_type": "code",
        "id": "VRU7ngb-2Jye",
        "outputId": "ec511457-dbe2-4013-8cff-1199e0c8adf1",
        "colab": {
          "base_uri": "https://localhost:8080/",
          "height": 34
        }
      },
      "source": [
        "# Mount your google drive where you've saved your assignment folder\n",
        "from google.colab import drive\n",
        "drive.mount('/content/gdrive')"
      ],
      "execution_count": 24,
      "outputs": [
        {
          "output_type": "stream",
          "text": [
            "Drive already mounted at /content/gdrive; to attempt to forcibly remount, call drive.mount(\"/content/gdrive\", force_remount=True).\n"
          ],
          "name": "stdout"
        }
      ]
    },
    {
      "cell_type": "code",
      "metadata": {
        "colab_type": "code",
        "id": "LjAojc6I2QIa",
        "outputId": "352f100f-2883-48c7-f30d-54e95a276e7c",
        "colab": {
          "base_uri": "https://localhost:8080/",
          "height": 50
        }
      },
      "source": [
        "# Set your working directory (in your google drive)\n",
        "# Note that 'gdrive/My Drive/Y2019Fall/CSE-527-Intro-To-Computer-Vision/hw3' is just an example, \n",
        "#   change it to your specific homework directory.\n",
        "cd 'gdrive/My Drive/CV/Rawat_Rohit_112963417_hw3/'"
      ],
      "execution_count": 25,
      "outputs": [
        {
          "output_type": "stream",
          "text": [
            "[Errno 2] No such file or directory: 'gdrive/My Drive/CV/Rawat_Rohit_112963417_hw3/'\n",
            "/content/gdrive/My Drive/CV/Rawat_Rohit_112963417_hw3\n"
          ],
          "name": "stdout"
        }
      ]
    },
    {
      "cell_type": "markdown",
      "metadata": {
        "colab_type": "text",
        "id": "FhkgVLuQTHn7"
      },
      "source": [
        "## Data Preparation"
      ]
    },
    {
      "cell_type": "code",
      "metadata": {
        "colab_type": "code",
        "id": "ENRccp9L2X1F",
        "outputId": "1a648a08-ec03-4fea-aabc-67f670668a7c",
        "colab": {
          "base_uri": "https://localhost:8080/",
          "height": 658
        }
      },
      "source": [
        "class_names = [name[13:] for name in glob.glob('./data/train/*')]\n",
        "class_names = dict(zip(range(len(class_names)), class_names))\n",
        "print(\"class_names: %s \" % class_names)\n",
        "n_train_samples_per_class = 150\n",
        "n_test_samples_per_class = 50\n",
        "\n",
        "def load_dataset(path, num_per_class=-1):\n",
        "    data = []\n",
        "    labels = []\n",
        "    for id, class_name in class_names.items():\n",
        "        print(\"Loading images from class: %s\" % id)\n",
        "        img_path_class = glob.glob(path + class_name + '/*.jpg')\n",
        "        if num_per_class > 0:\n",
        "            img_path_class = img_path_class[:num_per_class]\n",
        "        labels.extend([id]*len(img_path_class))\n",
        "        for filename in img_path_class:\n",
        "            data.append(cv2.imread(filename, 0))\n",
        "    return data, labels\n",
        "\n",
        "# load training dataset\n",
        "# train_data, train_label = load_dataset('./data/train/')\n",
        "train_data, train_label = load_dataset('./data/train/', n_train_samples_per_class)\n",
        "n_train = len(train_label)\n",
        "print(\"n_train: %s\" % n_train)\n",
        "\n",
        "# load testing dataset\n",
        "# test_data, test_label = load_dataset('./data/test/')\n",
        "test_data, test_label = load_dataset('./data/test/', n_test_samples_per_class)\n",
        "n_test = len(test_label)\n",
        "print(\"n_test: %s\" % n_test)"
      ],
      "execution_count": 26,
      "outputs": [
        {
          "output_type": "stream",
          "text": [
            "class_names: {0: 'Suburb', 1: 'InsideCity', 2: 'Street', 3: 'LivingRoom', 4: 'Office', 5: 'TallBuilding', 6: 'Kitchen', 7: 'OpenCountry', 8: 'Store', 9: 'Mountain', 10: 'Highway', 11: 'Forest', 12: 'Coast', 13: 'Bedroom', 14: 'Flower', 15: 'Industrial', 16: '_DS_Store'} \n",
            "Loading images from class: 0\n",
            "Loading images from class: 1\n",
            "Loading images from class: 2\n",
            "Loading images from class: 3\n",
            "Loading images from class: 4\n",
            "Loading images from class: 5\n",
            "Loading images from class: 6\n",
            "Loading images from class: 7\n",
            "Loading images from class: 8\n",
            "Loading images from class: 9\n",
            "Loading images from class: 10\n",
            "Loading images from class: 11\n",
            "Loading images from class: 12\n",
            "Loading images from class: 13\n",
            "Loading images from class: 14\n",
            "Loading images from class: 15\n",
            "Loading images from class: 16\n",
            "n_train: 2400\n",
            "Loading images from class: 0\n",
            "Loading images from class: 1\n",
            "Loading images from class: 2\n",
            "Loading images from class: 3\n",
            "Loading images from class: 4\n",
            "Loading images from class: 5\n",
            "Loading images from class: 6\n",
            "Loading images from class: 7\n",
            "Loading images from class: 8\n",
            "Loading images from class: 9\n",
            "Loading images from class: 10\n",
            "Loading images from class: 11\n",
            "Loading images from class: 12\n",
            "Loading images from class: 13\n",
            "Loading images from class: 14\n",
            "Loading images from class: 15\n",
            "Loading images from class: 16\n",
            "n_test: 400\n"
          ],
          "name": "stdout"
        }
      ]
    },
    {
      "cell_type": "code",
      "metadata": {
        "colab_type": "code",
        "id": "lVK5CH1V2cY3",
        "colab": {}
      },
      "source": [
        "# As loading the data from the source for the first time is time consuming, so you can pkl or save the data in a compact way such that subsequent data loading is faster\n",
        "# Save intermediate image data into disk\n",
        "file = open('train.pkl','wb')\n",
        "pickle.dump(train_data, file)\n",
        "pickle.dump(train_label, file)\n",
        "file.close()\n",
        "\n",
        "file = open('test.pkl','wb')\n",
        "pickle.dump(test_data, file)\n",
        "pickle.dump(test_label, file)\n",
        "file.close()"
      ],
      "execution_count": 0,
      "outputs": []
    },
    {
      "cell_type": "code",
      "metadata": {
        "colab_type": "code",
        "id": "sS51rm2O24lm",
        "outputId": "8a775414-3de4-423a-9aa0-0aa396a9df0f",
        "colab": {
          "base_uri": "https://localhost:8080/",
          "height": 50
        }
      },
      "source": [
        "# Load intermediate image data from disk\n",
        "file = open('train.pkl', 'rb')\n",
        "train_data = pickle.load(file)\n",
        "train_label = pickle.load(file)\n",
        "file.close()\n",
        "\n",
        "file = open('test.pkl', 'rb')\n",
        "test_data = pickle.load(file)\n",
        "test_label = pickle.load(file)\n",
        "file.close()\n",
        "\n",
        "print(len(train_data), len(train_label)) # Verify number of training samples\n",
        "print(len(test_data), len(test_label))   # Verify number of testing samples"
      ],
      "execution_count": 28,
      "outputs": [
        {
          "output_type": "stream",
          "text": [
            "2400 2400\n",
            "400 400\n"
          ],
          "name": "stdout"
        }
      ]
    },
    {
      "cell_type": "code",
      "metadata": {
        "colab_type": "code",
        "id": "yMXRub-wboDK",
        "colab": {}
      },
      "source": [
        "#plt.imshow(train_data[1], cmap='gray') # Verify image\n",
        "img_new_size = (240, 240)\n",
        "\n",
        "train_data = list(map(lambda x: cv2.resize(x, img_new_size), train_data))\n",
        "#print('old',train_data)\n",
        "train_data = np.stack(train_data)\n",
        "#print('new',train_data)\n",
        "train_label = np.array(train_label)\n",
        "#print('new',train_label)\n",
        "\n",
        "test_data = list(map(lambda x: cv2.resize(x, img_new_size), test_data))\n",
        "test_data = np.stack(test_data)\n",
        "test_label = np.array(test_label)\n",
        "#plt.imshow(train_data[1], cmap='gray') # Verify image\n"
      ],
      "execution_count": 0,
      "outputs": []
    },
    {
      "cell_type": "code",
      "metadata": {
        "colab_type": "code",
        "id": "1FflGhZCeHLR",
        "colab": {}
      },
      "source": [
        "# Verify image\n",
        "#plt.imshow(cv2.resize(train_data[1], img_new_size), cmap='gray')\n",
        "#print(train_data[1].dtype)\n",
        "#print(train_data[0])"
      ],
      "execution_count": 0,
      "outputs": []
    },
    {
      "cell_type": "code",
      "metadata": {
        "colab_type": "code",
        "id": "E39ihfKA3FtT",
        "outputId": "44df167f-a778-4442-c392-d5cbe755c9e6",
        "colab": {
          "base_uri": "https://localhost:8080/",
          "height": 101
        }
      },
      "source": [
        "n_train = len(train_label)\n",
        "n_test = len(test_label)\n",
        "\n",
        "# feature extraction\n",
        "def extract_feat(raw_data):\n",
        "    print(len(raw_data))\n",
        "    feat_dim = 1000\n",
        "    feat = np.zeros((len(raw_data), feat_dim), dtype=np.float32)\n",
        "    for i in np.arange(feat.shape[0]):\n",
        "        feat[i] = np.reshape(raw_data[i], (raw_data[i].size))[:feat_dim] # dummy implemtation\n",
        "    print(\"feat\",len(feat))\n",
        "    \n",
        "    return feat\n",
        "\n",
        "train_feat = extract_feat(train_data)\n",
        "test_feat = extract_feat(test_data)\n",
        "\n",
        "# model training: take feature and label, return model\n",
        "def train(X, Y):\n",
        "    return 0 # dummy implementation\n",
        "\n",
        "# prediction: take feature and model, return label\n",
        "def predict(model, x):\n",
        "    return np.random.randint(16) # dummy implementation\n",
        "\n",
        "# evaluation\n",
        "predictions = [-1]*len(test_feat)\n",
        "for i in np.arange(n_test):\n",
        "    predictions[i] = predict(None, test_feat[i])\n",
        "    \n",
        "accuracy = sum(np.array(predictions) == test_label) / float(n_test)\n",
        "\n",
        "print(\"The accuracy of my dummy model is {:.2f}%\".format(accuracy*100))"
      ],
      "execution_count": 31,
      "outputs": [
        {
          "output_type": "stream",
          "text": [
            "2400\n",
            "feat 2400\n",
            "400\n",
            "feat 400\n",
            "The accuracy of my dummy model is 6.00%\n"
          ],
          "name": "stdout"
        }
      ]
    },
    {
      "cell_type": "markdown",
      "metadata": {
        "colab_type": "text",
        "ein.tags": "worksheet-0",
        "id": "iPF5y8C4L4mC"
      },
      "source": [
        "## Problem 1: Tiny Image Representation + Nearest Neighbor Classifier\n",
        "{25 points} You will start by implementing the tiny image representation and the nearest neighbor classifier. They are easy to understand, easy to implement, and run very quickly for our experimental setup.\n",
        "\n",
        "The \"tiny image\" feature is one of the simplest possible image representations. One simply resizes each image to a small, fixed resolution. You are required to **resize the image to 16x16**. It works slightly better if the tiny image is made to have zero mean and unit length (normalization). This is not a particularly good representation, because it discards all of the high frequency image content and is not especially invariant to spatial or brightness shifts. We are using tiny images simply as a baseline.\n",
        "\n",
        "The nearest neighbor classifier is equally simple to understand. When tasked with classifying a test feature into a particular category, one simply finds the \"nearest\" training example (L2 distance is a sufficient metric) and assigns the label of that nearest training example to the test example. The nearest neighbor classifier has many desirable features — it requires no training, it can learn arbitrarily complex decision boundaries, and it trivially supports multiclass problems. It is quite vulnerable to training noise, though, which can be alleviated by voting based on the K nearest neighbors (but you are not required to do so). Nearest neighbor classifiers also suffer as the feature dimensionality increases, because the classifier has no mechanism to learn which dimensions are irrelevant for the decision.\n",
        "\n",
        "Report your classification accuracy on the test sets and time consumption.\n",
        "\n",
        "**Hints**:\n",
        "- Use [cv2.resize()](https://docs.opencv.org/2.4/modules/imgproc/doc/geometric_transformations.html#resize) to resize the images;\n",
        "- Use [NearestNeighbors in Sklearn](http://scikit-learn.org/stable/modules/neighbors.html) as your nearest neighbor classifier."
      ]
    },
    {
      "cell_type": "code",
      "metadata": {
        "colab_type": "code",
        "id": "JBTiTro73Q5E",
        "outputId": "d19765d6-c9fe-461a-8575-0712e09630b8",
        "colab": {
          "base_uri": "https://localhost:8080/",
          "height": 67
        }
      },
      "source": [
        "# Write your codes here\n",
        "#plt.imshow(train_data[1], cmap='gray') # Verify image\n",
        "img_new_size = (16, 16)\n",
        "train_data1 = list(map(lambda x: cv2.resize(x, img_new_size).flatten(), train_data))\n",
        "\n",
        "train_data1 = np.stack(train_data1)\n",
        "train_data1 = train_data1 - np.mean(train_data1, axis = 1).reshape(-1,1)\n",
        "square_train = train_data1**2\n",
        "train_data1 = train_data1 / np.sqrt(np.sum(square_train, axis = 1).reshape(-1,1))\n",
        "train_label1 = np.array(train_label)\n",
        "\n",
        "\n",
        "test_data1 = list(map(lambda x: cv2.resize(x, img_new_size).flatten(), test_data))\n",
        "test_data1 = np.stack(test_data1)\n",
        "test_data1 = test_data1 - np.mean(test_data1, axis = 1).reshape(-1,1)\n",
        "square_test = test_data1**2\n",
        "test_data1 = test_data1 / np.sqrt(np.sum(square_test, axis = 1).reshape(-1,1))\n",
        "label1 = np.array(test_label)\n",
        "\n",
        "start = time.process_time()\n",
        "classifier = KNeighborsClassifier(n_neighbors=1, metric = 'minkowski', p=2)\n",
        "classifier.fit(train_data1, train_label1)\n",
        "time1 = time.process_time() - start\n",
        "print(\"Time Consumption in Training (Tiny Image Representation + Nearest Neighbor Classifier) : \",time1 , \"seconds\")\n",
        "\n",
        "start = time.process_time()\n",
        "pred1 = classifier.predict(test_data1)\n",
        "time2 = time.process_time() - start\n",
        "\n",
        "print(\"The accuracy of this model is {:.2f}%\".format(accuracy_score(label1,pred1)*100)) \n",
        "print(\"Time Consumption in Prediction (Tiny Image Representation + Nearest Neighbor Classifier) : \",time2, \"seconds\")"
      ],
      "execution_count": 32,
      "outputs": [
        {
          "output_type": "stream",
          "text": [
            "Time Consumption in Training (Tiny Image Representation + Nearest Neighbor Classifier) :  0.019340334999998987 seconds\n",
            "The accuracy of this model is 23.00%\n",
            "Time Consumption in Prediction (Tiny Image Representation + Nearest Neighbor Classifier) :  0.5613888439999997 seconds\n"
          ],
          "name": "stdout"
        }
      ]
    },
    {
      "cell_type": "markdown",
      "metadata": {
        "colab_type": "text",
        "ein.tags": "worksheet-0",
        "id": "bU8G7eLyL4mH"
      },
      "source": [
        "## Problem 2: Bag of SIFT Representation + Nearest Neighbor Classifer\n",
        "{35 points}\n",
        "After you have implemented a baseline scene recognition pipeline it is time to\n",
        "move on to a more sophisticated image representation — bags of quantized SIFT\n",
        "features. Before we can represent our training and testing images as bag of\n",
        "feature histograms, we first need to establish a vocabulary of visual words. We\n",
        "will form this vocabulary by sampling many local features from our training set\n",
        "(10's or 100's of thousands) and then cluster them with k-means. The number of\n",
        "k-means clusters is the size of our vocabulary and the size of our features. For\n",
        "example, you might start by clustering many SIFT descriptors into k=50 clusters.\n",
        "This partitions the continuous, 128 dimensional SIFT feature space into 50\n",
        "regions. For any new SIFT feature we observe, we can figure out which region it\n",
        "belongs to as long as we save the centroids of our original clusters. Those\n",
        "centroids are our visual word vocabulary. Because it can be slow to sample and\n",
        "cluster many local features, the starter code saves the cluster centroids and\n",
        "avoids recomputing them on future runs.\n",
        "\n",
        "Now we are ready to represent our training and testing images as histograms of\n",
        "visual words. For each image we will densely sample many SIFT descriptors.\n",
        "Instead of storing hundreds of SIFT descriptors, we simply count how many SIFT\n",
        "descriptors fall into each cluster in our visual word vocabulary. This is done\n",
        "by finding the nearest neighbor k-means centroid for every SIFT feature. Thus,\n",
        "if we have a vocabulary of 50 visual words, and we detect 220 distinct SIFT\n",
        "features in an image, our bag of SIFT representation will be a histogram of 50\n",
        "dimensions where each bin counts how many times a SIFT descriptor was assigned\n",
        "to that cluster. The total of all the bin-counts is 220. The histogram should be\n",
        "normalized so that image size does not dramatically change the bag of features\n",
        "magnitude.\n",
        "\n",
        "After you obtain the Bag of SIFT feature representation of the images, you have to\n",
        "train a KNN classifier in the Bag of SIFT feature space and report your test set accuracy and time consumption. \n",
        "\n",
        "**Note**: \n",
        "- Instead of using SIFT to detect invariant keypoints which is time-consuming,\n",
        "  you are recommended to densely sample keypoints in a grid with certain step\n",
        "  size (sampling density) and scale.\n",
        "- There are many design decisions and free parameters for the bag of SIFT\n",
        "  representation (number of clusters, sampling density, sampling scales, SIFT\n",
        "  parameters, etc.) so accuracy might vary from 50% to 60%.\n",
        "- Indicate clearly the parameters you use along with the prediction accuracy\n",
        "  on test set and time consumption.\n",
        "\n",
        "**Hints**:\n",
        "- Use [KMeans in Sklearn](http://scikit-learn.org/stable/modules/generated/sklearn.cluster.KMeans.html)\n",
        "  to do clustering and find the nearest cluster centroid for each SIFT feature;\n",
        "- Use `cv2.xfeatures2d.SIFT_create()` to create a SIFT object;\n",
        "- Use `sift.compute()` to compute SIFT descriptors given densely sampled keypoints\n",
        "  ([cv2.Keypoint](https://docs.opencv.org/3.0-beta/modules/core/doc/basic_structures.html?highlight=keypoint#keypoint)).\n",
        "- Be mindful of RAM usage. Try to make the code more memory efficient, otherwise it could easily exceed RAM limits in Colab, at which point your session will crash.\n",
        "- If your RAM is going to run out of space, use [gc.collect()](https://docs.python.org/3/library/gc.html) for the garbage collector to collect unused objects in  memory to free some space.\n",
        "- Store data or features as NumPy arrays instead of lists. Computation on NumPy arrays is much more efficient than lists."
      ]
    },
    {
      "cell_type": "code",
      "metadata": {
        "id": "NaGCg0-QOmDP",
        "colab_type": "code",
        "colab": {
          "base_uri": "https://localhost:8080/",
          "height": 34
        },
        "outputId": "1e33fb89-9c1d-4d0e-f072-b1cec82dd6fd"
      },
      "source": [
        "import gc\n",
        "gc.collect()"
      ],
      "execution_count": 33,
      "outputs": [
        {
          "output_type": "execute_result",
          "data": {
            "text/plain": [
              "244"
            ]
          },
          "metadata": {
            "tags": []
          },
          "execution_count": 33
        }
      ]
    },
    {
      "cell_type": "code",
      "metadata": {
        "id": "R-zX3pSq1pEf",
        "colab_type": "code",
        "colab": {}
      },
      "source": [
        "train_data_2 = train_data.copy()\n",
        "test_data2 = test_data.copy()\n",
        "train_label2 = train_label.copy()\n",
        "label2 = test_label.copy()\n",
        "no_of_clusters = 50\n"
      ],
      "execution_count": 0,
      "outputs": []
    },
    {
      "cell_type": "code",
      "metadata": {
        "id": "G98iwp852Bk9",
        "colab_type": "code",
        "colab": {}
      },
      "source": [
        "def clustering(image_list):\n",
        "  desc_list = []\n",
        "  for img in image_list:\n",
        "    extractor = cv2.xfeatures2d.SIFT_create()\n",
        "    kp = extractor.detect(img)\n",
        "    dkp = [cv2.KeyPoint(k.pt[0], k.pt[1],k.size) for k in kp]\n",
        "    keyp, descriptors = extractor.compute(img, dkp)\n",
        "    desc_list.append(descriptors)\n",
        "    \n",
        "  desc_list=np.asarray(desc_list)\n",
        "  desc_list=np.concatenate(desc_list, axis=0)\n",
        "  #desc_list = np.sqrt(desc_list).astype(int)\n",
        "\n",
        "  \n",
        "  kmeans = MiniBatchKMeans(n_clusters=50, random_state=0).fit(desc_list)\n",
        "  \n",
        "  return kmeans\n",
        "  "
      ],
      "execution_count": 0,
      "outputs": []
    },
    {
      "cell_type": "code",
      "metadata": {
        "id": "_jRqEyKX3j6y",
        "colab_type": "code",
        "colab": {}
      },
      "source": [
        "def histogram(image_list,kmeans):\n",
        "  features = []\n",
        "  for img in image_list:\n",
        "    extractor = cv2.xfeatures2d.SIFT_create()\n",
        "    ###\n",
        "    kp = extractor.detect(img)\n",
        "    dkp = [cv2.KeyPoint(k.pt[0], k.pt[1],k.size) for k in kp]\n",
        "    keyp, descriptors = extractor.compute(img, dkp)\n",
        "    ###\n",
        "    #kp, descriptors = extractor.detectAndCompute(img,None)\n",
        "    predict_class = kmeans.predict(descriptors)\n",
        "    hist, bin_edges=np.histogram(predict_class, bins=50)\n",
        "    \n",
        "    features.append(hist)\n",
        "    \n",
        "  features=np.asarray(features)\n",
        "  return features"
      ],
      "execution_count": 0,
      "outputs": []
    },
    {
      "cell_type": "code",
      "metadata": {
        "id": "dpYmd-3X5EgC",
        "colab_type": "code",
        "colab": {
          "base_uri": "https://localhost:8080/",
          "height": 34
        },
        "outputId": "ced86f6a-f609-4edb-f6e3-398f487b29e8"
      },
      "source": [
        "start = time.process_time()\n",
        "kmeans = clustering(train_data_2)\n",
        "time7 = time.process_time() - start\n",
        "print(\"Time Consumption for Clustering Features: \",time7 , \"seconds\")\n"
      ],
      "execution_count": 41,
      "outputs": [
        {
          "output_type": "stream",
          "text": [
            "Time Consumption for Clustering Features:  276.344156119 seconds\n"
          ],
          "name": "stdout"
        }
      ]
    },
    {
      "cell_type": "code",
      "metadata": {
        "id": "hekBq0d2JKuv",
        "colab_type": "code",
        "colab": {
          "base_uri": "https://localhost:8080/",
          "height": 34
        },
        "outputId": "62531729-d229-4271-83fd-cbb054c7cc91"
      },
      "source": [
        "start = time.process_time()\n",
        "train_feat = histogram(train_data_2,kmeans)\n",
        "test_feat = histogram(test_data2,kmeans)\n",
        "time8 = time.process_time() - start\n",
        "print(\"Time Consumption for Histogram Generation: \",time8 , \"seconds\")\n"
      ],
      "execution_count": 42,
      "outputs": [
        {
          "output_type": "stream",
          "text": [
            "Time Consumption for Histogram Generation:  358.16528853899996 seconds\n"
          ],
          "name": "stdout"
        }
      ]
    },
    {
      "cell_type": "code",
      "metadata": {
        "id": "lMqDlSiK5q96",
        "colab_type": "code",
        "colab": {
          "base_uri": "https://localhost:8080/",
          "height": 67
        },
        "outputId": "53fa3801-88e3-439b-da28-21da2c0eb2f9"
      },
      "source": [
        "start = time.process_time()\n",
        "classifier = KNeighborsClassifier(n_neighbors=10, metric = 'minkowski', p=2)\n",
        "classifier.fit(train_feat, train_label2)\n",
        "time3 = time.process_time() - start\n",
        "\n",
        "print(\"Time Consumption in Training (Bag of SIFT Representation + Nearest Neighbor Classifer) : \",time3 , \"seconds\")\n",
        "\n",
        "start = time.process_time()\n",
        "pred2 = classifier.predict(test_feat)\n",
        "time4 = time.process_time() - start\n",
        "print(\"The Prediction accuracy of this model is {:.2f}%\".format(accuracy_score(label2,pred2)*100)) \n",
        "\n",
        "print(\"Time Consumption in Prediction (Bag of SIFT Representation + Nearest Neighbor Classifer) : \",time4 , \"seconds\")\n"
      ],
      "execution_count": 43,
      "outputs": [
        {
          "output_type": "stream",
          "text": [
            "Time Consumption in Training (Bag of SIFT Representation + Nearest Neighbor Classifer) :  0.011330282000017178 seconds\n",
            "The Prediction accuracy of this model is 46.75%\n",
            "Time Consumption in Prediction (Bag of SIFT Representation + Nearest Neighbor Classifer) :  0.2227230559999498 seconds\n"
          ],
          "name": "stdout"
        }
      ]
    },
    {
      "cell_type": "markdown",
      "metadata": {
        "colab_type": "text",
        "ein.tags": "worksheet-0",
        "id": "Z5cHPS2LL4mL"
      },
      "source": [
        "## Problem 3.a: Bag of SIFT Representation + one-vs-all SVMs\n",
        "{15 points}\n",
        "The last task is to train one-vs-all linear SVMS to operate in the bag of SIFT\n",
        "feature space. Linear classifiers are one of the simplest possible learning\n",
        "models. The feature space is partitioned by a learned hyperplane and test cases\n",
        "are categorized based on which side of that hyperplane they fall on. Despite\n",
        "this model being far less expressive than the nearest neighbor classifier, it\n",
        "will often perform better.\n",
        "\n",
        "You do not have to implement the support vector machine. However, linear\n",
        "classifiers are inherently binary and we have a 16-way classification problem\n",
        "(the library has handled it for you). To decide which of 16 categories a test\n",
        "case belongs to, you will train 16 binary, one-vs-all SVMs. One-vs-all means\n",
        "that each classifier will be trained to recognize 'forest' vs 'non-forest',\n",
        "'kitchen' vs 'non-kitchen', etc. All 16 classifiers will be evaluated on each\n",
        "test case and the classifier which is most confidently positive \"wins\". E.g. if\n",
        "the 'kitchen' classifier returns a score of -0.2 (where 0 is on the decision\n",
        "boundary), and the 'forest' classifier returns a score of -0.3, and all of the\n",
        "other classifiers are even more negative, the test case would be classified as a\n",
        "kitchen even though none of the classifiers put the test case on the positive\n",
        "side of the decision boundary. When learning an SVM, you have a free parameter\n",
        "$\\lambda$ (lambda) which controls how strongly regularized the model is. Your\n",
        "accuracy will be very sensitive to $\\lambda$, so be sure to try many values.\n",
        "\n",
        "Indicate clearly the parameters you use along with the prediction accuracy on\n",
        "test set and time consumption.\n",
        "\n",
        "**Bonus {10 points}**: For this question, you need to generate class prediction for the images in **test2** folder using your best model. The prediction file(**Surname_Givenname_SBUID_Pred.txt**) should follow the exact format as given in the **sample.txt** file.10 points will be given to students whose accuracy ranks top 3 in this homework.\n",
        "\n",
        "**Hints**:\n",
        "- Use SVM in\n",
        "  [Sklearn](http://scikit-learn.org/stable/modules/classes.html#module-sklearn.svm)\n",
        "  (recommended) or\n",
        "  [OpenCV](https://docs.opencv.org/3.0-alpha/modules/ml/doc/support_vector_machines.html)\n",
        "  to do training and prediction."
      ]
    },
    {
      "cell_type": "code",
      "metadata": {
        "colab_type": "code",
        "id": "HO021G583XVo",
        "colab": {
          "base_uri": "https://localhost:8080/",
          "height": 84
        },
        "outputId": "bb1e1ba0-1052-47e7-f53e-aed78b19808e"
      },
      "source": [
        "warnings.filterwarnings(\"ignore\")\n",
        "from sklearn.preprocessing import StandardScaler\n",
        "scaler = StandardScaler()\n",
        "#Standardizing the histogram matrix\n",
        "train_featn = scaler.fit_transform(train_feat)\n",
        "test_featn = scaler.fit_transform(test_feat)\n",
        "\n",
        "label3 = test_label.copy()\n",
        "\n",
        "start = time.process_time()\n",
        "clf = svm.LinearSVC(random_state=0, C = 4.6)    #Using lambda = 4.6 \n",
        "clf.fit(train_featn, train_label2) \n",
        "time5 = time.process_time() - start\n",
        "print(\"Time Consumption in Training (Bag of SIFT Representation + one-vs-all SVMs) : \",time5 , \"seconds\")\n",
        "\n",
        "start = time.process_time()\n",
        "pred3 = clf.predict(test_featn)\n",
        "time6 = time.process_time() - start\n",
        "print(\"Using Lambda = 4.6\")\n",
        "print(\"The Prediction accuracy of this model is {:.2f}%\".format(accuracy_score(label3,pred3)*100)) \n",
        "print(\"Time Consumption in Prediction (Bag of SIFT Representation + one-vs-all SVMs) : \",time6 , \"seconds\")\n"
      ],
      "execution_count": 44,
      "outputs": [
        {
          "output_type": "stream",
          "text": [
            "Time Consumption in Training (Bag of SIFT Representation + one-vs-all SVMs) :  3.4781483980000303 seconds\n",
            "Using Lambda = 4.6\n",
            "The Prediction accuracy of this model is 50.25%\n",
            "Time Consumption in Prediction (Bag of SIFT Representation + one-vs-all SVMs) :  0.0008427019999999175 seconds\n"
          ],
          "name": "stdout"
        }
      ]
    },
    {
      "cell_type": "code",
      "metadata": {
        "id": "0y7s7R9CTj0u",
        "colab_type": "code",
        "colab": {}
      },
      "source": [
        "import re\n",
        "numbers = re.compile(r'(\\d+)')\n",
        "def numericalSort(value):\n",
        "    parts = numbers.split(value)\n",
        "    parts[1::2] = map(int, parts[1::2])\n",
        "    return parts\n",
        "  \n",
        "def load_dataset_test2(path):\n",
        "    data = []\n",
        "    Names = []\n",
        "    img_path_class = sorted(glob.glob(path + '/*.jpg'), key=numericalSort)\n",
        "    for filename in img_path_class:\n",
        "        data.append(cv2.imread(filename, 0))\n",
        "        filename = filename[13:]\n",
        "        filename,jpg = filename.split('.')\n",
        "        imgn,file_number = filename.split('_')\n",
        "        num = file_number.zfill(3)  \n",
        "        filename = \"{}_{}\".format('img', num)\n",
        "        Names.append(filename)\n",
        "    return data,Names\n",
        "\n",
        "# load training dataset\n",
        "# train_data, train_label = load_dataset('./data/train/')\n",
        "\n",
        "img_new_size = (240,240)\n",
        "test2_data,Names = load_dataset_test2('./data/test2/')\n",
        "test2_data = list(map(lambda x: cv2.resize(x, img_new_size), test2_data))\n",
        "test2_data = np.stack(test2_data)\n",
        "\n",
        "test2_feat = histogram(test2_data,kmeans)\n",
        "test2_feat = scaler.fit_transform(test2_feat)\n",
        "\n",
        "pred4 = clf.predict(test2_feat)\n"
      ],
      "execution_count": 0,
      "outputs": []
    },
    {
      "cell_type": "code",
      "metadata": {
        "id": "EhnFh5-Ecze4",
        "colab_type": "code",
        "colab": {}
      },
      "source": [
        "Names = np.array(Names)\n",
        "pred4 = np.array(pred4)\n",
        "#Names.reshape(-1,1)\n",
        "Names = Names.flatten()\n",
        "\n",
        "p=pd.DataFrame(Names, columns =['Name'])\n",
        "p['Class_id'] = pred4\n",
        "np.savetxt('Rawat_Rohit_112963417_Pred.txt', p.values, fmt='%s', header=\"Name Class_id\", comments='')  \n"
      ],
      "execution_count": 0,
      "outputs": []
    },
    {
      "cell_type": "markdown",
      "metadata": {
        "colab_type": "text",
        "id": "GPX6w0-GFGF6"
      },
      "source": [
        "## Problem 3.b\n",
        "{5 points} Repeat the evaluation above for different sizes of training sets and draw a plot to show how the size of the training set affects test performace. Do this for training set sizes of 800, 1200, 1600, 2000, 2200, and 2300 images. Randomly sample the images from the original training set and evaluate accuracy. Repeat this process 10 times for each training set size and report the average prediction accuracy. How does performance variability change with training set size? How does performance change? Give reason for your observations."
      ]
    },
    {
      "cell_type": "code",
      "metadata": {
        "colab_type": "code",
        "id": "kVpUDrMO3hwM",
        "colab": {
          "base_uri": "https://localhost:8080/",
          "height": 218
        },
        "outputId": "d2e5b3ac-9df2-4867-f4c9-2a055fa01d93"
      },
      "source": [
        "# Write your codes here\n",
        "training_size = [800,1200,1600,2000,2200,2300]\n",
        "Accuracy = []\n",
        "Time_consum = []\n",
        "#train_set=np.concatenate((train_data,train_label), axis=1) \n",
        "for tsize in training_size:\n",
        "  A_score = 0.0\n",
        "  start = time.process_time()\n",
        "  for i in range(10):\n",
        "      perm = np.random.permutation(np.arange(2400))\n",
        "      ind = perm[0:tsize]\n",
        "      feat = train_featn[ind]\n",
        "      labels = train_label2[ind]\n",
        "      clf_n = svm.LinearSVC(random_state=0, C = 4.6)\n",
        "      clf_n.fit(feat, labels) \n",
        "      predi = clf_n.predict(test_featn)\n",
        "      A_score+= accuracy_score(label3,predi)\n",
        "  t = time.process_time() - start\n",
        "  Time_consum.append(t)\n",
        "  print(\"Time Consumption for Training size =\",tsize,\"is\", t , \"seconds\")\n",
        "  Accuracy.append(A_score*10)\n",
        "  print(\"Average prediction accuracy for Training size =\",tsize,\"is\",A_score*10,\"%\")                                     \n"
      ],
      "execution_count": 47,
      "outputs": [
        {
          "output_type": "stream",
          "text": [
            "Time Consumption for Training size = 800 is 8.747498248999932 seconds\n",
            "Average prediction accuracy for Training size = 800 is 40.199999999999996 %\n",
            "Time Consumption for Training size = 1200 is 14.897245223000027 seconds\n",
            "Average prediction accuracy for Training size = 1200 is 44.725 %\n",
            "Time Consumption for Training size = 1600 is 21.501535834000038 seconds\n",
            "Average prediction accuracy for Training size = 1600 is 46.575 %\n",
            "Time Consumption for Training size = 2000 is 29.01702103899993 seconds\n",
            "Average prediction accuracy for Training size = 2000 is 47.349999999999994 %\n",
            "Time Consumption for Training size = 2200 is 32.56886128899998 seconds\n",
            "Average prediction accuracy for Training size = 2200 is 48.125 %\n",
            "Time Consumption for Training size = 2300 is 34.60575273799998 seconds\n",
            "Average prediction accuracy for Training size = 2300 is 48.525 %\n"
          ],
          "name": "stdout"
        }
      ]
    },
    {
      "cell_type": "code",
      "metadata": {
        "id": "ajgBNER7dkpl",
        "colab_type": "code",
        "colab": {
          "base_uri": "https://localhost:8080/",
          "height": 767
        },
        "outputId": "4ff5a6ed-def9-4069-e96d-eb6e4d9a57d2"
      },
      "source": [
        "plt.figure(figsize=(6,6))\n",
        "plt.plot(training_size, Accuracy)\n",
        "plt.ylabel('Accuracy')\n",
        "plt.xlabel('Training Size')\n",
        "plt.show()\n",
        "\n",
        "plt.figure(figsize=(6,6))\n",
        "plt.plot(training_size,Time_consum )\n",
        "plt.ylabel('Accuracy')\n",
        "plt.xlabel('Time Consumption')\n",
        "plt.show()"
      ],
      "execution_count": 48,
      "outputs": [
        {
          "output_type": "display_data",
          "data": {
            "image/png": "[encoded data removed]",
            "text/plain": [
              "<Figure size 432x432 with 1 Axes>"
            ]
          },
          "metadata": {
            "tags": []
          }
        },
        {
          "output_type": "display_data",
          "data": {
            "image/png": "[encoded data removed]",
            "text/plain": [
              "<Figure size 432x432 with 1 Axes>"
            ]
          },
          "metadata": {
            "tags": []
          }
        }
      ]
    },
    {
      "cell_type": "markdown",
      "metadata": {
        "id": "BDnSgvpciL8J",
        "colab_type": "text"
      },
      "source": [
        "1.   In Figure 1, As the training size increasing, our model is getting better trained. Resultantly, Average Accuracy is increasing with training batch size. So, as the training set size will increase, performance will also increase.\n",
        "\n",
        "2.   In Figure 2, As the training size increasing, our training time is also increasing. This could be because as size of the batch increased, computation time also increased.\n"
      ]
    },
    {
      "cell_type": "markdown",
      "metadata": {
        "colab_type": "text",
        "ein.tags": "worksheet-0",
        "id": "6NtxxntZL4mP"
      },
      "source": [
        "## Performance Report\n",
        "---\n",
        "{20 points}\n",
        "Please report the performance of the following combinations **in the given order**\n",
        "in terms of the time consumed and classification accuracy. Describe your algorithm,\n",
        "any decisions you made to write your algorithm in your particular way, and how\n",
        "different choices you made affect it. Compute and draw a (normalized) [confusion matrix](https://en.wikipedia.org/wiki/Confusion_matrix), and discuss\n",
        "where the method performs best and worse for each of the combination.\n",
        "Here is an [example](http://scikit-learn.org/stable/auto_examples/model_selection/plot_confusion_matrix.html#sphx-glr-auto-examples-model-selection-plot-confusion-matrix-py) of how to compute confusion matrix.\n",
        "\n",
        "\n",
        "1st: Tiny images representation and nearest neighbor classifier (accuracy of about 18-25%).<br>\n",
        "2nd: Bag of SIFT representation and nearest neighbor - classifier (accuracy of about 40-50%). <br>\n",
        "3rd: Bag of SIFT representation and linear SVM classifier (accuracy of about 50-70%). <br>"
      ]
    },
    {
      "cell_type": "code",
      "metadata": {
        "colab_type": "code",
        "id": "-EBU10i84d7X",
        "colab": {
          "base_uri": "https://localhost:8080/",
          "height": 1000
        },
        "outputId": "cb73e594-c783-42a6-8897-b754fc60097c"
      },
      "source": [
        "from sklearn.metrics import confusion_matrix\n",
        "def plot_confusion_matrix(cm, classes,\n",
        "                          normalize=False,\n",
        "                          title='Confusion matrix',\n",
        "                          cmap=plt.cm.Blues):\n",
        "    \"\"\"\n",
        "    This function prints and plots the confusion matrix.\n",
        "    \n",
        "    Normalization can be applied by setting `normalize=True`.\n",
        "    \"\"\"\n",
        "    cm = cm.astype('float') / cm.sum(axis=1)[:, np.newaxis]\n",
        "    #print(cm)\n",
        "\n",
        "    fig, ax = plt.subplots()\n",
        "    im = ax.imshow(cm, interpolation='nearest', cmap=cmap)\n",
        "    ax.figure.colorbar(im, ax=ax)\n",
        "    # We want to show all ticks...\n",
        "    ax.set(xticks=np.arange(cm.shape[1]),\n",
        "           yticks=np.arange(cm.shape[0]),\n",
        "           # ... and label them with the respective list entries\n",
        "           xticklabels=classes, yticklabels=classes,\n",
        "           title=title,\n",
        "           ylabel='True label',\n",
        "           xlabel='Predicted label')\n",
        "\n",
        "    # Rotate the tick labels and set their alignment.\n",
        "    plt.setp(ax.get_xticklabels(), rotation=90, ha=\"right\",rotation_mode=\"anchor\")\n",
        "\n",
        "    # Loop over data dimensions and create text annotations.\n",
        "    #fmt = '.2f'\n",
        "    #thresh = cm.max() / 2.\n",
        "    #for i in range(cm.shape[0]):\n",
        "        #for j in range(cm.shape[1]):\n",
        "            #ax.text(j, i, format(cm[i, j], fmt),ha=\"center\", va=\"center\",color=\"white\" if cm[i, j] > thresh else \"black\")\n",
        "    \n",
        "    fig.tight_layout()\n",
        "    return ax\n",
        "\n",
        "c_names = [name[13:] for name in glob.glob('./data/train/*')]\n",
        "\n",
        "#First combination:\n",
        "# Confusion matrix\n",
        "print(\"Tiny Image Representation + Nearest Neighbor Classifier: \\n\")\n",
        "print(\"First I have flattened the images, from 2D to 1D. Then, I have converted the images into unit length and zero mean.\")\n",
        "print(\"Then using KNeighborsClassifier with n_neighbors = 1,I have trained the model on tiny images. And finally predicted the classes for test set.\")\n",
        "\n",
        "print(\"Time Consumption in Training (Tiny Image Representation + Nearest Neighbor Classifier) : \",time1 , \"seconds\")\n",
        "print(\"The accuracy of this model is {:.2f}%\".format(accuracy_score(label1,pred1)*100)) \n",
        "print(\"Time Consumption in Prediction (Tiny Image Representation + Nearest Neighbor Classifier) : \",time2, \"seconds\\n\\n\")\n",
        "cm1 = confusion_matrix(pred1, label1)\n",
        "plt.figure(figsize=(12,12))\n",
        "plot_confusion_matrix(cm1, c_names, normalize=True)\n",
        "plt.show()\n",
        "print(\"Confusion Matrix Description(Tiny Image Representation + Nearest Neighbor Classifier): \\n\")\n",
        "print(\"As we can see diagonal values are small, which indicates less number of correct predictions. Off-diagonal values are not less zeros, indicating wrong prediction of classes.\")\n",
        "print(\"Best Performed: Store Class.\")\n",
        "print(\"Worst Performed: Flower images class got wrong classified in Bedroom class which is deducible by looking the correspnding values.\\n\\n\\n \")\n",
        "\n",
        "#Second combination:\n",
        "# Confusion matrix\n",
        "print(\"Bag of SIFT Representation + Nearest Neighbor Classifier: \\n\")\n",
        "print(\"First using dense keypoints corresponding descriptor and KMeans library, I have clustered the features,.Then for each image, I have calculated the histogram.\") \n",
        "print(\"Then using KNeighborsClassifier with different n_neighbors values like 2,5,10,etc, I have trained the model and predicted the classes for the test set.\")\n",
        "print(\"The model decent performed for n_neighbors = 10 and n_clusters= 50.\")\n",
        "print(\"This combination took lesser time consumption in training and prediction as compare to first combination. But clustering took time. I noticed KMeans() library took more time then MiniBatchKMeans()\")\n",
        "print(\"Time Consumption for Clustering Features: \",time7 , \"seconds\")\n",
        "print(\"Time Consumption for Histogram Generation: \",time8 , \"seconds\")\n",
        "print(\"Time Consumption in Training (Bag of SIFT Representation + Nearest Neighbor Classifer) : \",time3 , \"seconds\")\n",
        "print(\"The Prediction accuracy of this model is {:.2f}%\".format(accuracy_score(label2,pred2)*100)) \n",
        "print(\"Time Consumption in Prediction (Bag of SIFT Representation + Nearest Neighbor Classifer) : \",time4 , \"seconds\")\n",
        "cm2 = confusion_matrix(pred2, label2)\n",
        "plt.figure(figsize=(12,12))\n",
        "plot_confusion_matrix(cm2, c_names, normalize=True)\n",
        "plt.show()\n",
        "print(\"Confusion Matrix Description(Bag of SIFT Representation + Nearest Neighbor Classifier): \\n\")\n",
        "print(\"As we can see diagonal values are larger than last combination. Wrong prediction of classes are lesser as compare to last combination.\")\n",
        "print(\"Best Performed: Forest and TallBuilding Class\")\n",
        "print(\"Worst Performed: Mostly, Idustrial class Images didn't get classified correct as comapare to other classes.\\n\\n\\n \")\n",
        "\n",
        "#Third combination:\n",
        "# Confusion matrix\n",
        "print(\"Bag of SIFT Representation + one-vs-all SVMs: \\n\")\n",
        "print(\"After standarizing the histogram matrix of images from second combination, I have used LinearSVC with different values of lambda(C) values.I got the best result with Lambda(C) = 4.6.\")\n",
        "print(\"This combination took least time consumption in training and prediction as compare to rest of the combinations.\")\n",
        "print(\"Time Consumption in Training (Bag of SIFT Representation + one-vs-all SVMs) : \",time5 , \"seconds\")\n",
        "print(\"The Prediction accuracy of this model is {:.2f}%\".format(accuracy_score(label3,pred3)*100)) \n",
        "print(\"Time Consumption in Prediction (Bag of SIFT Representation + one-vs-all SVMs) : \",time6 , \"seconds\")\n",
        "cm3 = confusion_matrix(pred3, label3)\n",
        "plt.figure(figsize=(12,12))\n",
        "plot_confusion_matrix(cm3, c_names, normalize=True)\n",
        "plt.show()\n",
        "\n",
        "print(\"Confusion Matrix Description(Bag of SIFT Representation + one-vs-all SVMs): \\n\")\n",
        "print(\"As we can see diagonal values are larger and darker than other combinations. Wrong prediction of classes are lesser as compare to other combinations.\")\n",
        "print(\"Best Performed: Forest Class\")\n",
        "print(\"Wrost Performed: Living Room Class Images got classified incorrectly in Bedroom and vice-versa as compare to other classes. This signify the common features of both classes.\\n\\n\\n \")"
      ],
      "execution_count": 49,
      "outputs": [
        {
          "output_type": "stream",
          "text": [
            "Tiny Image Representation + Nearest Neighbor Classifier: \n",
            "\n",
            "First I have flattened the images, from 2D to 1D. Then, I have converted the images into unit length and zero mean.\n",
            "Then using KNeighborsClassifier with n_neighbors = 1,I have trained the model on tiny images. And finally predicted the classes for test set.\n",
            "Time Consumption in Training (Tiny Image Representation + Nearest Neighbor Classifier) :  0.019340334999998987 seconds\n",
            "The accuracy of this model is 23.00%\n",
            "Time Consumption in Prediction (Tiny Image Representation + Nearest Neighbor Classifier) :  0.5613888439999997 seconds\n",
            "\n",
            "\n"
          ],
          "name": "stdout"
        },
        {
          "output_type": "display_data",
          "data": {
            "text/plain": [
              "<Figure size 864x864 with 0 Axes>"
            ]
          },
          "metadata": {
            "tags": []
          }
        },
        {
          "output_type": "display_data",
          "data": {
            "image/png": "[encoded data removed]",
            "text/plain": [
              "<Figure size 432x288 with 2 Axes>"
            ]
          },
          "metadata": {
            "tags": []
          }
        },
        {
          "output_type": "stream",
          "text": [
            "Confusion Matrix Description(Tiny Image Representation + Nearest Neighbor Classifier): \n",
            "\n",
            "As we can see diagonal values are small, which indicates less number of correct predictions. Off-diagonal values are not less zeros, indicating wrong prediction of classes.\n",
            "Best Performed: Store Class.\n",
            "Worst Performed: Flower images class got wrong classified in Bedroom class which is deducible by looking the correspnding values.\n",
            "\n",
            "\n",
            " \n",
            "Bag of SIFT Representation + Nearest Neighbor Classifier: \n",
            "\n",
            "First using dense keypoints corresponding descriptor and KMeans library, I have clustered the features,.Then for each image, I have calculated the histogram.\n",
            "Then using KNeighborsClassifier with different n_neighbors values like 2,5,10,etc, I have trained the model and predicted the classes for the test set.\n",
            "The model decent performed for n_neighbors = 10 and n_clusters= 50.\n",
            "This combination took lesser time consumption in training and prediction as compare to first combination. But clustering took time. I noticed KMeans() library took more time then MiniBatchKMeans()\n",
            "Time Consumption for Clustering Features:  276.344156119 seconds\n",
            "Time Consumption for Histogram Generation:  358.16528853899996 seconds\n",
            "Time Consumption in Training (Bag of SIFT Representation + Nearest Neighbor Classifer) :  0.011330282000017178 seconds\n",
            "The Prediction accuracy of this model is 46.75%\n",
            "Time Consumption in Prediction (Bag of SIFT Representation + Nearest Neighbor Classifer) :  0.2227230559999498 seconds\n"
          ],
          "name": "stdout"
        },
        {
          "output_type": "display_data",
          "data": {
            "text/plain": [
              "<Figure size 864x864 with 0 Axes>"
            ]
          },
          "metadata": {
            "tags": []
          }
        },
        {
          "output_type": "display_data",
          "data": {
            "image/png": "[encoded data removed]",
            "text/plain": [
              "<Figure size 432x288 with 2 Axes>"
            ]
          },
          "metadata": {
            "tags": []
          }
        },
        {
          "output_type": "stream",
          "text": [
            "Confusion Matrix Description(Bag of SIFT Representation + Nearest Neighbor Classifier): \n",
            "\n",
            "As we can see diagonal values are larger than last combination. Wrong prediction of classes are lesser as compare to last combination.\n",
            "Best Performed: Forest and TallBuilding Class\n",
            "Worst Performed: Mostly, Idustrial class Images didn't get classified correct as comapare to other classes.\n",
            "\n",
            "\n",
            " \n",
            "Bag of SIFT Representation + one-vs-all SVMs: \n",
            "\n",
            "After standarizing the histogram matrix of images from second combination, I have used LinearSVC with different values of lambda(C) values.I got the best result with Lambda(C) = 4.6.\n",
            "This combination took least time consumption in training and prediction as compare to rest of the combinations.\n",
            "Time Consumption in Training (Bag of SIFT Representation + one-vs-all SVMs) :  3.4781483980000303 seconds\n",
            "The Prediction accuracy of this model is 50.25%\n",
            "Time Consumption in Prediction (Bag of SIFT Representation + one-vs-all SVMs) :  0.0008427019999999175 seconds\n"
          ],
          "name": "stdout"
        },
        {
          "output_type": "display_data",
          "data": {
            "text/plain": [
              "<Figure size 864x864 with 0 Axes>"
            ]
          },
          "metadata": {
            "tags": []
          }
        },
        {
          "output_type": "display_data",
          "data": {
            "image/png": "[encoded data removed]",
            "text/plain": [
              "<Figure size 432x288 with 2 Axes>"
            ]
          },
          "metadata": {
            "tags": []
          }
        },
        {
          "output_type": "stream",
          "text": [
            "Confusion Matrix Description(Bag of SIFT Representation + one-vs-all SVMs): \n",
            "\n",
            "As we can see diagonal values are larger and darker than other combinations. Wrong prediction of classes are lesser as compare to other combinations.\n",
            "Best Performed: Forest Class\n",
            "Wrost Performed: Living Room Class Images got classified incorrectly in Bedroom and vice-versa as compare to other classes. This signify the common features of both classes.\n",
            "\n",
            "\n",
            " \n"
          ],
          "name": "stdout"
        }
      ]
    },
    {
      "cell_type": "markdown",
      "metadata": {
        "colab_type": "text",
        "id": "PhZehMVdL4mS"
      },
      "source": [
        "## Submission guidelines\n",
        "---\n",
        "Extract the downloaded .zip file to a folder of your preference. The input and output paths are predefined and **DO NOT** change them, (we assume that 'Surname_Givenname_SBUID_hw3' is your working directory, and all the paths are relative to this directory).  The image read and write functions are already written for you. All you need to do is to fill in the blanks as indicated to generate proper outputs. **DO NOT** zip and upload the dataset on blackboard due to size limit.\n",
        "\n",
        "When submitting your .zip file through blackboard, please\n",
        "-- name your .zip file as **Surname_Givenname_SBUID_hw*.zip**.\n",
        "\n",
        "This zip file should include:\n",
        "```\n",
        "Surname_Givenname_SBUID_hw*\n",
        "        |---Surname_Givenname_SBUID_hw*.ipynb\n",
        "        |---Surname_Givenname_SBUID_hw*.pdf\n",
        "        |---Surname_Givenname_SBUID_Pred*.txt\n",
        "```\n",
        "\n",
        "For instance, student Michael Jordan should submit a zip file named \"Jordan_Michael_111134567_hw3.zip\" for homework3 in this structure:\n",
        "```\n",
        "Jordan_Michael_111134567_hw3\n",
        "        |---Jordan_Michael_111134567_hw3.ipynb\n",
        "        |---Jordan_Michael_111134567_hw3.pdf\n",
        "        |---Jordan_Michael_111134567_Pred.txt\n",
        "```\n",
        "\n",
        "The **Surname_Givenname_SBUID_hw*.pdf** should include a **google shared link** and **Surname_Givenname_SBUID_Pred*.pdf** should be your test set prediction file in the specified format. To generate the **google shared link**, first create a folder named **Surname_Givenname_SBUID_hw*** in your Google Drive with your Stony Brook account. The structure of the files in the folder should be exactly the same as the one you downloaded. If you alter the folder structures, the grading of your homework will be significantly delayed and possibly penalized.\n",
        "\n",
        "Then right click this folder, click ***Get shareable link***, in the People textfield, enter two TA's emails: ***bo.cao.1@stonybrook.edu*** and ***sayontan.ghosh@stonybrook.edu***. Make sure that TAs who have the link **can edit**, ***not just*** **can view**, and also **uncheck** the **Notify people** box.\n",
        "\n",
        "Colab has a good feature of version control, you should take advantage of this to save your work properly. However, the timestamp of the submission made in blackboard is the only one that we consider for grading. To be more specific, we will only grade the version of your code right before the timestamp of the submission made in blackboard. \n",
        "\n",
        "You are encouraged to post and answer questions on Piazza. Based on the amount of email that we have received in past years, there might be dealys in replying to personal emails. Please ask questions on Piazza and send emails only for personal issues.\n",
        "\n",
        "Be aware that your code will undergo plagiarism check both vertically and horizontally. Please do your own work.\n",
        "\n",
        "**Late submission penalty:** <br>\n",
        "There will be a 10% penalty per day for late submission. However, you will have 4 days throughout the whole semester to submit late without penalty. Note that the grace period is calculated by days instead of hours. If you submit the homework one minute after the deadline, one late day will be counted. Likewise, if you submit one minute after the deadline, the 10% penaly will be imposed if not using the grace period.\n",
        "\n"
      ]
    },
    {
      "cell_type": "code",
      "metadata": {
        "colab_type": "code",
        "id": "nio-kNUh947x",
        "colab": {}
      },
      "source": [
        ""
      ],
      "execution_count": 0,
      "outputs": []
    }
  ]
}